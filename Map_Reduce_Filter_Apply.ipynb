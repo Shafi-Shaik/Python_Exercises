{
 "cells": [
  {
   "cell_type": "markdown",
   "id": "c1422d8b-0fdd-472c-b4e4-4c86a176860d",
   "metadata": {
    "jp-MarkdownHeadingCollapsed": true,
    "tags": []
   },
   "source": [
    "# Map(): \n",
    "* Applies a function to an iterable without using Loops\n",
    " * Syntax: map ( function, iterable)\n",
    " * where iterables are list,tuple,set,dict,string,arrray,range. etc"
   ]
  },
  {
   "cell_type": "markdown",
   "id": "2504543c-5d90-43f4-97d8-93fe11079c08",
   "metadata": {},
   "source": [
    "## Square a list of numbers"
   ]
  },
  {
   "cell_type": "code",
   "execution_count": 1,
   "id": "153ded81-69de-4f79-9759-0a5318850e86",
   "metadata": {},
   "outputs": [
    {
     "name": "stdout",
     "output_type": "stream",
     "text": [
      "25\n"
     ]
    }
   ],
   "source": [
    "l1=[2,3,4,5,12]\n",
    "\n",
    "def square(x):\n",
    "    return x**2\n",
    "print(square(5))\n",
    "\n",
    "# But it will not work for iterables, the below statement gives error\n",
    "# print(square(l1)) \n",
    "# TypeError: unsupported operand type(s) for ** or pow(): 'list' and 'int'\n"
   ]
  },
  {
   "cell_type": "code",
   "execution_count": 2,
   "id": "4b92178d-aa80-4c5d-987f-310b63554997",
   "metadata": {},
   "outputs": [
    {
     "name": "stdout",
     "output_type": "stream",
     "text": [
      "<map object at 0x00000277B8A9A5C0>\n",
      "[4, 9, 16, 25, 144]\n"
     ]
    }
   ],
   "source": [
    "res=map(square,l1)\n",
    "print(res)\n",
    "print(list(res))"
   ]
  },
  {
   "cell_type": "markdown",
   "id": "4250c3ee-7732-4c14-87f6-37535c5d1196",
   "metadata": {},
   "source": [
    "### Lambda inside Map()"
   ]
  },
  {
   "cell_type": "code",
   "execution_count": 3,
   "id": "f89a00dd-c439-4deb-9f6f-f522568ab31b",
   "metadata": {},
   "outputs": [
    {
     "name": "stdout",
     "output_type": "stream",
     "text": [
      "<map object at 0x00000277B8A9ADA0>\n",
      "[4, 9, 16, 25, 144]\n"
     ]
    }
   ],
   "source": [
    "res=map(lambda i: i**2,l1)\n",
    "print(res)\n",
    "print(list(res))"
   ]
  },
  {
   "cell_type": "code",
   "execution_count": 4,
   "id": "3e24e1d3-b425-46f8-8455-c32b7180b068",
   "metadata": {},
   "outputs": [
    {
     "name": "stdout",
     "output_type": "stream",
     "text": [
      "(1, 4, 27, 16, 125)\n"
     ]
    }
   ],
   "source": [
    "tup1=(1,2,3,4,5)\n",
    "res=map(lambda i : i**2 if i%2==0 else i**3, tup1 )\n",
    "print(tuple(res))"
   ]
  },
  {
   "cell_type": "code",
   "execution_count": null,
   "id": "ca09b7b6-6dbf-43e0-9a2f-b9dc67c17bb5",
   "metadata": {},
   "outputs": [],
   "source": []
  },
  {
   "cell_type": "markdown",
   "id": "f6eff34f-41a4-4c04-bc0f-9d0e1c9646da",
   "metadata": {
    "tags": []
   },
   "source": [
    "# filter():\n",
    "* Python filter() function is used to get filtered elements. This function takes two arguments, first is a function and the second is iterable. The filter function returns a sequence from those elements of iterable for which function returns True.\n",
    "* The first argument can be None if the function is not available and returns only elements that are True.\n",
    "   * Syntax: filter(function, iterable)\n",
    "   *  where iterables are list,tuple,set,dict,string,arrray,range. etc"
   ]
  },
  {
   "cell_type": "code",
   "execution_count": 5,
   "id": "fc0fe5fc-ae11-42b7-94e0-db23f67807a4",
   "metadata": {},
   "outputs": [],
   "source": [
    "#print only even numbers from a list"
   ]
  },
  {
   "cell_type": "code",
   "execution_count": 6,
   "id": "8015264e-5c9e-485f-884c-a8f12b777122",
   "metadata": {},
   "outputs": [
    {
     "name": "stdout",
     "output_type": "stream",
     "text": [
      "[2, 4, 6, 8]\n"
     ]
    }
   ],
   "source": [
    "l1=[1,3,2,3,4,5,6,7,8]\n",
    "\n",
    "def fun1(i):\n",
    "    if i%2==0:\n",
    "        return True\n",
    "    \n",
    "res=filter(fun1,l1)\n",
    "print(list(res))"
   ]
  },
  {
   "cell_type": "markdown",
   "id": "c9b65585-11a0-4b7a-a45e-bead389535db",
   "metadata": {},
   "source": [
    "### Lambda inside filter"
   ]
  },
  {
   "cell_type": "code",
   "execution_count": 7,
   "id": "8aeed9db-8df9-481a-a49a-b92510ba7913",
   "metadata": {},
   "outputs": [
    {
     "name": "stdout",
     "output_type": "stream",
     "text": [
      "[2, 4, 6, 8]\n"
     ]
    }
   ],
   "source": [
    "l1=[1,3,2,3,4,5,6,7,8]\n",
    "\n",
    "    \n",
    "res=filter(lambda i: i%2==0,l1)\n",
    "print(list(res))"
   ]
  },
  {
   "cell_type": "code",
   "execution_count": 8,
   "id": "5c2ff10c-0fe8-4fa8-a5e6-280298657c07",
   "metadata": {},
   "outputs": [
    {
     "name": "stdout",
     "output_type": "stream",
     "text": [
      "vowels list ['a', 'e', 'i', 'o', 'u']\n",
      "consonants list ['b', 'c', 'd', 'f', 'g', 'h', 'j', 'k', 'l', 'm', 'n', 'p', 'q', 'r', 's', 't', 'v', 'w', 'x', 'y', 'z']\n"
     ]
    }
   ],
   "source": [
    "alphabets='abcdefghijklmnopqrstuvwxyz'\n",
    "\n",
    "vowels = filter(lambda i: i in ('aeiou'),alphabets)\n",
    "consonants = filter(lambda i: i not in ('aeiou'),alphabets)\n",
    "\n",
    "print('vowels list',list(vowels))\n",
    "print('consonants list',list(consonants))"
   ]
  },
  {
   "cell_type": "code",
   "execution_count": null,
   "id": "35e12a75-406d-4fc1-93ce-d9b02c9a8093",
   "metadata": {},
   "outputs": [],
   "source": []
  },
  {
   "cell_type": "code",
   "execution_count": null,
   "id": "108299fb-253b-417e-8cef-7c88fbe1abfb",
   "metadata": {
    "jp-MarkdownHeadingCollapsed": true,
    "tags": []
   },
   "outputs": [],
   "source": [
    "# Reduce(): \n",
    "* The reduce() function is defined in the functools module. Like the map and filter functions, the reduce() function receives two arguments, a function and an iterable. However, it doesn't return another iterable, instead it returns a single value.\n",
    "    * Syntax: reduce(function, iterable)"
   ]
  },
  {
   "cell_type": "code",
   "execution_count": 9,
   "id": "e02ef20a-088f-4477-901e-51fd52c3ad07",
   "metadata": {},
   "outputs": [
    {
     "name": "stdout",
     "output_type": "stream",
     "text": [
      "15\n"
     ]
    }
   ],
   "source": [
    "from functools import reduce\n",
    "l1=[1,2,3,4,5]\n",
    "res=reduce(lambda x,y:x+y, l1)\n",
    "print(res)"
   ]
  },
  {
   "cell_type": "code",
   "execution_count": 10,
   "id": "27685c0e-f99c-417d-ae22-c48283905c1d",
   "metadata": {},
   "outputs": [
    {
     "name": "stdout",
     "output_type": "stream",
     "text": [
      "[1, 2, 3, 4]\n",
      "44\n"
     ]
    },
    {
     "data": {
      "text/plain": [
       "'\\ncalculation:\\n[1,2,3,4]\\nfirst two elements -> 1*2 + 2*2=6\\n1:2,Third elements -> 6*2 + 3*2=18\\n1:3,fourth elements -> 18*2 + 4*2=6\\n'"
      ]
     },
     "execution_count": 10,
     "metadata": {},
     "output_type": "execute_result"
    }
   ],
   "source": [
    "a=range(1,5)\n",
    "\n",
    "print(list(a))\n",
    "print(reduce(lambda x,y: x*2+y*2,a))\n",
    "\n",
    "'''\n",
    "calculation:\n",
    "[1,2,3,4]\n",
    "first two elements -> 1*2 + 2*2=6\n",
    "1:2,Third elements -> 6*2 + 3*2=18\n",
    "1:3,fourth elements -> 18*2 + 4*2=6\n",
    "'''"
   ]
  },
  {
   "cell_type": "markdown",
   "id": "078ad02e-345b-48f3-ab57-9107ff393755",
   "metadata": {
    "tags": []
   },
   "source": [
    "# Apply():\n",
    "* Apply is also same as Map() but it is for dataframe / Series \n",
    "* syntax: df.apply(Function,arguments)"
   ]
  },
  {
   "cell_type": "code",
   "execution_count": 11,
   "id": "f8376ff7-f141-4540-867f-b481cd5fb051",
   "metadata": {},
   "outputs": [
    {
     "data": {
      "text/html": [
       "<div>\n",
       "<style scoped>\n",
       "    .dataframe tbody tr th:only-of-type {\n",
       "        vertical-align: middle;\n",
       "    }\n",
       "\n",
       "    .dataframe tbody tr th {\n",
       "        vertical-align: top;\n",
       "    }\n",
       "\n",
       "    .dataframe thead th {\n",
       "        text-align: right;\n",
       "    }\n",
       "</style>\n",
       "<table border=\"1\" class=\"dataframe\">\n",
       "  <thead>\n",
       "    <tr style=\"text-align: right;\">\n",
       "      <th></th>\n",
       "      <th>a</th>\n",
       "      <th>b</th>\n",
       "    </tr>\n",
       "  </thead>\n",
       "  <tbody>\n",
       "    <tr>\n",
       "      <th>0</th>\n",
       "      <td>1</td>\n",
       "      <td>12</td>\n",
       "    </tr>\n",
       "    <tr>\n",
       "      <th>1</th>\n",
       "      <td>2</td>\n",
       "      <td>13</td>\n",
       "    </tr>\n",
       "    <tr>\n",
       "      <th>2</th>\n",
       "      <td>3</td>\n",
       "      <td>23</td>\n",
       "    </tr>\n",
       "    <tr>\n",
       "      <th>3</th>\n",
       "      <td>4</td>\n",
       "      <td>34</td>\n",
       "    </tr>\n",
       "    <tr>\n",
       "      <th>4</th>\n",
       "      <td>5</td>\n",
       "      <td>45</td>\n",
       "    </tr>\n",
       "  </tbody>\n",
       "</table>\n",
       "</div>"
      ],
      "text/plain": [
       "   a   b\n",
       "0  1  12\n",
       "1  2  13\n",
       "2  3  23\n",
       "3  4  34\n",
       "4  5  45"
      ]
     },
     "execution_count": 11,
     "metadata": {},
     "output_type": "execute_result"
    }
   ],
   "source": [
    "import pandas as pd\n",
    "\n",
    "df=pd.DataFrame({\"a\":[1,2,3,4,5],\n",
    "                \"b\":[12,13,23,34,45]\n",
    "                })\n",
    "df"
   ]
  },
  {
   "cell_type": "code",
   "execution_count": 12,
   "id": "24193290-09f7-4a85-8dde-1c8aa6637f0d",
   "metadata": {},
   "outputs": [
    {
     "data": {
      "text/html": [
       "<div>\n",
       "<style scoped>\n",
       "    .dataframe tbody tr th:only-of-type {\n",
       "        vertical-align: middle;\n",
       "    }\n",
       "\n",
       "    .dataframe tbody tr th {\n",
       "        vertical-align: top;\n",
       "    }\n",
       "\n",
       "    .dataframe thead th {\n",
       "        text-align: right;\n",
       "    }\n",
       "</style>\n",
       "<table border=\"1\" class=\"dataframe\">\n",
       "  <thead>\n",
       "    <tr style=\"text-align: right;\">\n",
       "      <th></th>\n",
       "      <th>a</th>\n",
       "      <th>b</th>\n",
       "    </tr>\n",
       "  </thead>\n",
       "  <tbody>\n",
       "    <tr>\n",
       "      <th>0</th>\n",
       "      <td>1</td>\n",
       "      <td>144</td>\n",
       "    </tr>\n",
       "    <tr>\n",
       "      <th>1</th>\n",
       "      <td>4</td>\n",
       "      <td>169</td>\n",
       "    </tr>\n",
       "    <tr>\n",
       "      <th>2</th>\n",
       "      <td>9</td>\n",
       "      <td>529</td>\n",
       "    </tr>\n",
       "    <tr>\n",
       "      <th>3</th>\n",
       "      <td>16</td>\n",
       "      <td>1156</td>\n",
       "    </tr>\n",
       "    <tr>\n",
       "      <th>4</th>\n",
       "      <td>25</td>\n",
       "      <td>2025</td>\n",
       "    </tr>\n",
       "  </tbody>\n",
       "</table>\n",
       "</div>"
      ],
      "text/plain": [
       "    a     b\n",
       "0   1   144\n",
       "1   4   169\n",
       "2   9   529\n",
       "3  16  1156\n",
       "4  25  2025"
      ]
     },
     "execution_count": 12,
     "metadata": {},
     "output_type": "execute_result"
    }
   ],
   "source": [
    "df.apply(lambda x: x**2,axis='columns')"
   ]
  },
  {
   "cell_type": "code",
   "execution_count": 13,
   "id": "c7ff46ba-ec7c-481f-9c7a-1e2e713ffa0f",
   "metadata": {},
   "outputs": [
    {
     "data": {
      "text/html": [
       "<div>\n",
       "<style scoped>\n",
       "    .dataframe tbody tr th:only-of-type {\n",
       "        vertical-align: middle;\n",
       "    }\n",
       "\n",
       "    .dataframe tbody tr th {\n",
       "        vertical-align: top;\n",
       "    }\n",
       "\n",
       "    .dataframe thead th {\n",
       "        text-align: right;\n",
       "    }\n",
       "</style>\n",
       "<table border=\"1\" class=\"dataframe\">\n",
       "  <thead>\n",
       "    <tr style=\"text-align: right;\">\n",
       "      <th></th>\n",
       "      <th>a</th>\n",
       "      <th>b</th>\n",
       "    </tr>\n",
       "  </thead>\n",
       "  <tbody>\n",
       "    <tr>\n",
       "      <th>0</th>\n",
       "      <td>1</td>\n",
       "      <td>144</td>\n",
       "    </tr>\n",
       "    <tr>\n",
       "      <th>1</th>\n",
       "      <td>4</td>\n",
       "      <td>169</td>\n",
       "    </tr>\n",
       "    <tr>\n",
       "      <th>2</th>\n",
       "      <td>9</td>\n",
       "      <td>529</td>\n",
       "    </tr>\n",
       "    <tr>\n",
       "      <th>3</th>\n",
       "      <td>16</td>\n",
       "      <td>1156</td>\n",
       "    </tr>\n",
       "    <tr>\n",
       "      <th>4</th>\n",
       "      <td>25</td>\n",
       "      <td>2025</td>\n",
       "    </tr>\n",
       "  </tbody>\n",
       "</table>\n",
       "</div>"
      ],
      "text/plain": [
       "    a     b\n",
       "0   1   144\n",
       "1   4   169\n",
       "2   9   529\n",
       "3  16  1156\n",
       "4  25  2025"
      ]
     },
     "execution_count": 13,
     "metadata": {},
     "output_type": "execute_result"
    }
   ],
   "source": [
    "df.apply(lambda x: x**2,axis='rows')"
   ]
  },
  {
   "cell_type": "code",
   "execution_count": 14,
   "id": "3681cfa7-784a-4a15-b115-b5f0cb3de65d",
   "metadata": {},
   "outputs": [
    {
     "data": {
      "text/html": [
       "<div>\n",
       "<style scoped>\n",
       "    .dataframe tbody tr th:only-of-type {\n",
       "        vertical-align: middle;\n",
       "    }\n",
       "\n",
       "    .dataframe tbody tr th {\n",
       "        vertical-align: top;\n",
       "    }\n",
       "\n",
       "    .dataframe thead th {\n",
       "        text-align: right;\n",
       "    }\n",
       "</style>\n",
       "<table border=\"1\" class=\"dataframe\">\n",
       "  <thead>\n",
       "    <tr style=\"text-align: right;\">\n",
       "      <th></th>\n",
       "      <th>a</th>\n",
       "      <th>b</th>\n",
       "      <th>row total</th>\n",
       "    </tr>\n",
       "  </thead>\n",
       "  <tbody>\n",
       "    <tr>\n",
       "      <th>0</th>\n",
       "      <td>1</td>\n",
       "      <td>12</td>\n",
       "      <td>13</td>\n",
       "    </tr>\n",
       "    <tr>\n",
       "      <th>1</th>\n",
       "      <td>2</td>\n",
       "      <td>13</td>\n",
       "      <td>15</td>\n",
       "    </tr>\n",
       "    <tr>\n",
       "      <th>2</th>\n",
       "      <td>3</td>\n",
       "      <td>23</td>\n",
       "      <td>26</td>\n",
       "    </tr>\n",
       "    <tr>\n",
       "      <th>3</th>\n",
       "      <td>4</td>\n",
       "      <td>34</td>\n",
       "      <td>38</td>\n",
       "    </tr>\n",
       "    <tr>\n",
       "      <th>4</th>\n",
       "      <td>5</td>\n",
       "      <td>45</td>\n",
       "      <td>50</td>\n",
       "    </tr>\n",
       "  </tbody>\n",
       "</table>\n",
       "</div>"
      ],
      "text/plain": [
       "   a   b  row total\n",
       "0  1  12         13\n",
       "1  2  13         15\n",
       "2  3  23         26\n",
       "3  4  34         38\n",
       "4  5  45         50"
      ]
     },
     "execution_count": 14,
     "metadata": {},
     "output_type": "execute_result"
    }
   ],
   "source": [
    "df.loc[:,'row total']=df.apply(sum,axis='columns')\n",
    "df"
   ]
  },
  {
   "cell_type": "code",
   "execution_count": 15,
   "id": "8ebc0a55-ce9a-436b-873d-b20beee11814",
   "metadata": {
    "collapsed": true,
    "jupyter": {
     "outputs_hidden": true
    },
    "tags": []
   },
   "outputs": [
    {
     "data": {
      "text/html": [
       "<div>\n",
       "<style scoped>\n",
       "    .dataframe tbody tr th:only-of-type {\n",
       "        vertical-align: middle;\n",
       "    }\n",
       "\n",
       "    .dataframe tbody tr th {\n",
       "        vertical-align: top;\n",
       "    }\n",
       "\n",
       "    .dataframe thead th {\n",
       "        text-align: right;\n",
       "    }\n",
       "</style>\n",
       "<table border=\"1\" class=\"dataframe\">\n",
       "  <thead>\n",
       "    <tr style=\"text-align: right;\">\n",
       "      <th></th>\n",
       "      <th>a</th>\n",
       "      <th>b</th>\n",
       "      <th>row total</th>\n",
       "    </tr>\n",
       "  </thead>\n",
       "  <tbody>\n",
       "    <tr>\n",
       "      <th>0</th>\n",
       "      <td>1.0</td>\n",
       "      <td>12.0</td>\n",
       "      <td>13.0</td>\n",
       "    </tr>\n",
       "    <tr>\n",
       "      <th>1</th>\n",
       "      <td>2.0</td>\n",
       "      <td>13.0</td>\n",
       "      <td>15.0</td>\n",
       "    </tr>\n",
       "    <tr>\n",
       "      <th>2</th>\n",
       "      <td>3.0</td>\n",
       "      <td>23.0</td>\n",
       "      <td>26.0</td>\n",
       "    </tr>\n",
       "    <tr>\n",
       "      <th>3</th>\n",
       "      <td>4.0</td>\n",
       "      <td>34.0</td>\n",
       "      <td>38.0</td>\n",
       "    </tr>\n",
       "    <tr>\n",
       "      <th>4</th>\n",
       "      <td>5.0</td>\n",
       "      <td>45.0</td>\n",
       "      <td>50.0</td>\n",
       "    </tr>\n",
       "    <tr>\n",
       "      <th>column total</th>\n",
       "      <td>15.0</td>\n",
       "      <td>127.0</td>\n",
       "      <td>142.0</td>\n",
       "    </tr>\n",
       "  </tbody>\n",
       "</table>\n",
       "</div>"
      ],
      "text/plain": [
       "                 a      b  row total\n",
       "0              1.0   12.0       13.0\n",
       "1              2.0   13.0       15.0\n",
       "2              3.0   23.0       26.0\n",
       "3              4.0   34.0       38.0\n",
       "4              5.0   45.0       50.0\n",
       "column total  15.0  127.0      142.0"
      ]
     },
     "execution_count": 15,
     "metadata": {},
     "output_type": "execute_result"
    }
   ],
   "source": [
    "df.loc['column total',:]=df.apply(sum,axis='rows')\n",
    "df\n"
   ]
  },
  {
   "cell_type": "code",
   "execution_count": null,
   "id": "d7c1adea-fbd1-471f-a8c9-ee5483391125",
   "metadata": {},
   "outputs": [],
   "source": []
  }
 ],
 "metadata": {
  "kernelspec": {
   "display_name": "Python 3 (ipykernel)",
   "language": "python",
   "name": "python3"
  },
  "language_info": {
   "codemirror_mode": {
    "name": "ipython",
    "version": 3
   },
   "file_extension": ".py",
   "mimetype": "text/x-python",
   "name": "python",
   "nbconvert_exporter": "python",
   "pygments_lexer": "ipython3",
   "version": "3.10.7"
  }
 },
 "nbformat": 4,
 "nbformat_minor": 5
}

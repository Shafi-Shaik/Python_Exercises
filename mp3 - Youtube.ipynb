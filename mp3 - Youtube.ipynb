{
 "cells": [
  {
   "cell_type": "code",
   "execution_count": 93,
   "id": "0b93385b-b9e5-4cf1-b0d4-f48e8a5255b6",
   "metadata": {},
   "outputs": [
    {
     "name": "stdin",
     "output_type": "stream",
     "text": [
      "Enter the youtube URL to download mp3: \t https://www.youtube.com/watch?v=Po3jStA673E\n"
     ]
    },
    {
     "name": "stdout",
     "output_type": "stream",
     "text": [
      " Downloading Directory/Folder : C:/Users/shafi/Music\n",
      "LEO - Official Trailer | Thalapathy Vijay | Lokesh Kanagaraj | Anirudh Ravichander has been successfully downloaded in the folder path\n"
     ]
    }
   ],
   "source": [
    "from pytube import YouTube\n",
    "import os\n",
    "import time\n",
    "from pathlib import Path\n",
    "\n",
    "        \n",
    "url=input('Enter the youtube URL to download mp3: \\t')\n",
    "outdir=\"C:/Users/shafi/Music\"\n",
    "print(f\" Downloading Directory/Folder : {outdir}\")\n",
    "\n",
    "def youtube2mp3 (url,outdir):\n",
    "    # url input from user\n",
    "    yt = YouTube(url)\n",
    "\n",
    "    ##@ Extract audio with 160kbps quality from video\n",
    "    video = yt.streams.filter(abr='128kbps').last()\n",
    "\n",
    "    ##@ Downloadthe file\n",
    "    try:\n",
    "        out_file = video.download(output_path=outdir)\n",
    "        base, ext = os.path.splitext(out_file)\n",
    "        new_file = Path(f'{base}.mp4')\n",
    "        os.rename(out_file, new_file)\n",
    "        ##@ Check success of download\n",
    "    \n",
    "        if new_file.exists():\n",
    "            print(f'{yt.title} has been successfully downloaded in the folder path')\n",
    "        else:\n",
    "            print(f'ERROR: {yt.title} could not be downloaded!')\n",
    "    except FileExistsError :\n",
    "        print(\"File is already present\")\n",
    "    time.sleep(5)\n",
    "youtube2mp3(url,outdir)\n",
    "time.sleep(5)"
   ]
  }
 ],
 "metadata": {
  "kernelspec": {
   "display_name": "Python 3 (ipykernel)",
   "language": "python",
   "name": "python3"
  },
  "language_info": {
   "codemirror_mode": {
    "name": "ipython",
    "version": 3
   },
   "file_extension": ".py",
   "mimetype": "text/x-python",
   "name": "python",
   "nbconvert_exporter": "python",
   "pygments_lexer": "ipython3",
   "version": "3.11.6"
  }
 },
 "nbformat": 4,
 "nbformat_minor": 5
}

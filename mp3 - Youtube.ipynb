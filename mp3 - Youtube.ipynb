{
 "cells": [
  {
   "cell_type": "code",
   "execution_count": 2,
   "id": "7bc1340a-8230-4c28-99d3-48a0b7980fad",
   "metadata": {},
   "outputs": [
    {
     "name": "stdin",
     "output_type": "stream",
     "text": [
      "Enter the youtube URL to download mp3: \t https://www.youtube.com/watch?v=Gwg_KYNgu6Y\n"
     ]
    },
    {
     "name": "stdout",
     "output_type": "stream",
     "text": [
      " Downloading Directory/Folder : S:/Media Files/4 Audios\n",
      "File is already present\n"
     ]
    }
   ],
   "source": [
    "from pytube import YouTube\n",
    "import os\n",
    "from pathlib import Path\n",
    "\n",
    "        \n",
    "url=input('Enter the youtube URL to download mp3: \\t')\n",
    "outdir=\"S:/Media Files/4 Audios\"\n",
    "print(f\" Downloading Directory/Folder : {outdir}\")\n",
    "\n",
    "def youtube2mp3 (url,outdir):\n",
    "    # url input from user\n",
    "    yt = YouTube(url)\n",
    "\n",
    "    ##@ Extract audio with 160kbps quality from video\n",
    "    video = yt.streams.filter(abr='128kbps').last()\n",
    "\n",
    "    ##@ Downloadthe file\n",
    "    try:\n",
    "        out_file = video.download(output_path=outdir)\n",
    "        base, ext = os.path.splitext(out_file)\n",
    "        new_file = Path(f'{base}.mp3')\n",
    "        os.rename(out_file, new_file)\n",
    "        ##@ Check success of download\n",
    "    \n",
    "        if new_file.exists():\n",
    "            print(f'{yt.title} has been successfully downloaded in the folder path')\n",
    "        else:\n",
    "            print(f'ERROR: {yt.title} could not be downloaded!')\n",
    "    except FileExistsError :\n",
    "        print(\"File is already present\")\n",
    "\n",
    "youtube2mp3(url,outdir)"
   ]
  },
  {
   "cell_type": "code",
   "execution_count": null,
   "id": "55160f85-9041-401b-ae2e-48fad143ca94",
   "metadata": {},
   "outputs": [],
   "source": []
  }
 ],
 "metadata": {
  "kernelspec": {
   "display_name": "Python 3 (ipykernel)",
   "language": "python",
   "name": "python3"
  },
  "language_info": {
   "codemirror_mode": {
    "name": "ipython",
    "version": 3
   },
   "file_extension": ".py",
   "mimetype": "text/x-python",
   "name": "python",
   "nbconvert_exporter": "python",
   "pygments_lexer": "ipython3",
   "version": "3.10.7"
  }
 },
 "nbformat": 4,
 "nbformat_minor": 5
}

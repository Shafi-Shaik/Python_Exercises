{
 "cells": [
  {
   "cell_type": "markdown",
   "id": "c1422d8b-0fdd-472c-b4e4-4c86a176860d",
   "metadata": {},
   "source": [
    "# Map():\n",
    "* Syntax: map ( function, iterable)\n",
    "* where iterables are list,tuple,set,dict,string,arrray,range. etc"
   ]
  },
  {
   "cell_type": "markdown",
   "id": "2504543c-5d90-43f4-97d8-93fe11079c08",
   "metadata": {},
   "source": [
    "## Square a list of numbers"
   ]
  },
  {
   "cell_type": "code",
   "execution_count": 10,
   "id": "153ded81-69de-4f79-9759-0a5318850e86",
   "metadata": {},
   "outputs": [
    {
     "name": "stdout",
     "output_type": "stream",
     "text": [
      "25\n"
     ]
    }
   ],
   "source": [
    "l1=[2,3,4,5,12]\n",
    "\n",
    "def square(x):\n",
    "    return x**2\n",
    "print(square(5))\n",
    "\n",
    "# But it will not work for iterables, the below statement gives error\n",
    "# print(square(l1)) \n",
    "# TypeError: unsupported operand type(s) for ** or pow(): 'list' and 'int'\n"
   ]
  },
  {
   "cell_type": "code",
   "execution_count": 13,
   "id": "4b92178d-aa80-4c5d-987f-310b63554997",
   "metadata": {},
   "outputs": [
    {
     "name": "stdout",
     "output_type": "stream",
     "text": [
      "<map object at 0x00000231F68FDE40>\n",
      "[4, 9, 16, 25, 144]\n"
     ]
    }
   ],
   "source": [
    "res=map(square,l1)\n",
    "print(res)\n",
    "print(list(res))"
   ]
  },
  {
   "cell_type": "markdown",
   "id": "4250c3ee-7732-4c14-87f6-37535c5d1196",
   "metadata": {},
   "source": [
    "### Lambda inside Map()"
   ]
  },
  {
   "cell_type": "code",
   "execution_count": 16,
   "id": "f89a00dd-c439-4deb-9f6f-f522568ab31b",
   "metadata": {},
   "outputs": [
    {
     "name": "stdout",
     "output_type": "stream",
     "text": [
      "<map object at 0x00000231F6908BE0>\n",
      "[4, 9, 16, 25, 144]\n"
     ]
    }
   ],
   "source": [
    "res=map(lambda i: i**2,l1)\n",
    "print(res)\n",
    "print(list(res))"
   ]
  },
  {
   "cell_type": "markdown",
   "id": "5d1fed27-9474-4754-a816-201cb362fa01",
   "metadata": {},
   "source": [
    "### "
   ]
  },
  {
   "cell_type": "code",
   "execution_count": 18,
   "id": "3e24e1d3-b425-46f8-8455-c32b7180b068",
   "metadata": {},
   "outputs": [
    {
     "name": "stdout",
     "output_type": "stream",
     "text": [
      "(1, 4, 27, 16, 125)\n"
     ]
    }
   ],
   "source": [
    "tup1=(1,2,3,4,5)\n",
    "res=map(lambda i : i**2 if i%2==0 else i**3, tup1 )\n",
    "print(tuple(res))"
   ]
  },
  {
   "cell_type": "markdown",
   "id": "43946366-305c-41a9-857c-25fa17175c7c",
   "metadata": {
    "jp-MarkdownHeadingCollapsed": true,
    "tags": []
   },
   "source": [
    "# Apply():"
   ]
  },
  {
   "cell_type": "code",
   "execution_count": null,
   "id": "e02ef20a-088f-4477-901e-51fd52c3ad07",
   "metadata": {},
   "outputs": [],
   "source": []
  },
  {
   "cell_type": "code",
   "execution_count": null,
   "id": "0db847d5-e3b8-41ca-9acf-cc64b8cda766",
   "metadata": {},
   "outputs": [],
   "source": []
  },
  {
   "cell_type": "code",
   "execution_count": null,
   "id": "218ebfc8-05b1-45cf-b63f-3fe664eacebe",
   "metadata": {},
   "outputs": [],
   "source": []
  },
  {
   "cell_type": "code",
   "execution_count": null,
   "id": "ca09b7b6-6dbf-43e0-9a2f-b9dc67c17bb5",
   "metadata": {},
   "outputs": [],
   "source": []
  },
  {
   "cell_type": "markdown",
   "id": "f6eff34f-41a4-4c04-bc0f-9d0e1c9646da",
   "metadata": {
    "tags": []
   },
   "source": [
    "# filter():\n",
    "* Python filter() function is used to get filtered elements. This function takes two arguments, first is a function and the second is iterable. The filter function returns a sequence from those elements of iterable for which function returns True.\n",
    "* The first argument can be None if the function is not available and returns only elements that are True.\n",
    "   * Syntax: filter(function, iterable)\n",
    "   *  where iterables are list,tuple,set,dict,string,arrray,range. etc"
   ]
  },
  {
   "cell_type": "code",
   "execution_count": 19,
   "id": "fc0fe5fc-ae11-42b7-94e0-db23f67807a4",
   "metadata": {},
   "outputs": [],
   "source": [
    "#print only even numbers from a list"
   ]
  },
  {
   "cell_type": "code",
   "execution_count": 25,
   "id": "8015264e-5c9e-485f-884c-a8f12b777122",
   "metadata": {},
   "outputs": [
    {
     "name": "stdout",
     "output_type": "stream",
     "text": [
      "[2, 4, 6, 8]\n"
     ]
    }
   ],
   "source": [
    "l1=[1,3,2,3,4,5,6,7,8]\n",
    "\n",
    "def fun1(i):\n",
    "    if i%2==0:\n",
    "        return True\n",
    "    \n",
    "res=filter(fun1,l1)\n",
    "print(list(res))"
   ]
  },
  {
   "cell_type": "markdown",
   "id": "c9b65585-11a0-4b7a-a45e-bead389535db",
   "metadata": {},
   "source": [
    "### Lambda inside filter"
   ]
  },
  {
   "cell_type": "code",
   "execution_count": 27,
   "id": "8aeed9db-8df9-481a-a49a-b92510ba7913",
   "metadata": {},
   "outputs": [
    {
     "name": "stdout",
     "output_type": "stream",
     "text": [
      "[2, 4, 6, 8]\n"
     ]
    }
   ],
   "source": [
    "l1=[1,3,2,3,4,5,6,7,8]\n",
    "\n",
    "    \n",
    "res=filter(lambda i: i%2==0,l1)\n",
    "print(list(res))"
   ]
  },
  {
   "cell_type": "code",
   "execution_count": 28,
   "id": "5c2ff10c-0fe8-4fa8-a5e6-280298657c07",
   "metadata": {},
   "outputs": [
    {
     "name": "stdout",
     "output_type": "stream",
     "text": [
      "vowels list ['a', 'e', 'i', 'o', 'u']\n",
      "consonants list ['b', 'c', 'd', 'f', 'g', 'h', 'j', 'k', 'l', 'm', 'n', 'p', 'q', 'r', 's', 't', 'v', 'w', 'x', 'y', 'z']\n"
     ]
    }
   ],
   "source": [
    "alphabets='abcdefghijklmnopqrstuvwxyz'\n",
    "\n",
    "vowels = filter(lambda i: i in ('aeiou'),alphabets)\n",
    "consonants = filter(lambda i: i not in ('aeiou'),alphabets)\n",
    "\n",
    "print('vowels list',list(vowels))\n",
    "print('consonants list',list(consonants))"
   ]
  },
  {
   "cell_type": "markdown",
   "id": "078ad02e-345b-48f3-ab57-9107ff393755",
   "metadata": {
    "tags": []
   },
   "source": [
    "# Reduce():"
   ]
  },
  {
   "cell_type": "code",
   "execution_count": null,
   "id": "f8376ff7-f141-4540-867f-b481cd5fb051",
   "metadata": {},
   "outputs": [],
   "source": []
  },
  {
   "cell_type": "code",
   "execution_count": null,
   "id": "24193290-09f7-4a85-8dde-1c8aa6637f0d",
   "metadata": {},
   "outputs": [],
   "source": []
  },
  {
   "cell_type": "code",
   "execution_count": null,
   "id": "c7ff46ba-ec7c-481f-9c7a-1e2e713ffa0f",
   "metadata": {},
   "outputs": [],
   "source": []
  },
  {
   "cell_type": "code",
   "execution_count": null,
   "id": "8ebc0a55-ce9a-436b-873d-b20beee11814",
   "metadata": {},
   "outputs": [],
   "source": []
  }
 ],
 "metadata": {
  "kernelspec": {
   "display_name": "Python 3 (ipykernel)",
   "language": "python",
   "name": "python3"
  },
  "language_info": {
   "codemirror_mode": {
    "name": "ipython",
    "version": 3
   },
   "file_extension": ".py",
   "mimetype": "text/x-python",
   "name": "python",
   "nbconvert_exporter": "python",
   "pygments_lexer": "ipython3",
   "version": "3.10.7"
  }
 },
 "nbformat": 4,
 "nbformat_minor": 5
}

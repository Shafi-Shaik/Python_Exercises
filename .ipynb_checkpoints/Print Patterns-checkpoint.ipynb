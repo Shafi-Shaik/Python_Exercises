{
 "cells": [
  {
   "cell_type": "code",
   "execution_count": 1,
   "id": "e8b66e81-e5f5-4e46-9400-128fa1d1dfde",
   "metadata": {},
   "outputs": [],
   "source": [
    "n=5 # no of lines"
   ]
  },
  {
   "cell_type": "code",
   "execution_count": 2,
   "id": "38eda203-f3df-400b-a1b0-616219a4e350",
   "metadata": {},
   "outputs": [
    {
     "name": "stdout",
     "output_type": "stream",
     "text": [
      "1 \n",
      "1 2 \n",
      "1 2 3 \n",
      "1 2 3 4 \n",
      "1 2 3 4 5 \n"
     ]
    }
   ],
   "source": [
    "\n",
    "for row in range(n):\n",
    "    for col in range(0,row+1,1):\n",
    "        print(col+1,end=' ')\n",
    "    print()\n",
    "    \n"
   ]
  },
  {
   "cell_type": "code",
   "execution_count": 6,
   "id": "1f71a822-df9d-46b5-9331-1f3f00e86aef",
   "metadata": {},
   "outputs": [
    {
     "name": "stdout",
     "output_type": "stream",
     "text": [
      "1 2 3 4 5 \n",
      "1 2 3 4 \n",
      "1 2 3 \n",
      "1 2 \n",
      "1 \n"
     ]
    }
   ],
   "source": [
    "for row in range(0,n,1):\n",
    "    for col in range(0,n-row,1):\n",
    "        print(col+1,end=' ')\n",
    "    print()"
   ]
  },
  {
   "cell_type": "code",
   "execution_count": 7,
   "id": "68b69e8d-ac0e-4cd1-b646-1e89134b2282",
   "metadata": {},
   "outputs": [
    {
     "name": "stdout",
     "output_type": "stream",
     "text": [
      "1 \n",
      "1 2 \n",
      "1 2 3 \n",
      "1 2 3 4 \n",
      "1 2 3 4 5 \n",
      "----------------------------------------\n",
      "1 2 3 4 5 \n",
      "1 2 3 4 \n",
      "1 2 3 \n",
      "1 2 \n",
      "1 \n",
      "----------------------------------------\n",
      "        1 \n",
      "      1 2 \n",
      "    1 2 3 \n",
      "  1 2 3 4 \n",
      "1 2 3 4 5 \n",
      "----------------------------------------\n",
      "1 2 3 4 5 \n",
      "  1 2 3 4 \n",
      "    1 2 3 \n",
      "      1 2 \n",
      "        1 \n"
     ]
    }
   ],
   "source": [
    "#pattern 1\n",
    "for row in range(n):\n",
    "    for col in range(0,row+1,1):\n",
    "        print(col+1,end=' ')\n",
    "    print()\n",
    "\n",
    "print('--'*20)\n",
    "#pattern 2\n",
    "for row in range(0,n,1):\n",
    "    for col in range(0,n-row,1):\n",
    "        print(col+1,end=' ')\n",
    "    print()\n",
    "\n",
    "print('--'*20)\n",
    "\n",
    "#pattern 3\n",
    "for row in range(0,n,1):\n",
    "    for space in range(0,n-row-1,1):\n",
    "        print(' ',end=' ')\n",
    "    for col in range(0,row+1,1):\n",
    "        print(col+1,end=' ')\n",
    "    print()\n",
    "\n",
    "print('--'*20)\n",
    "\n",
    "#pattern 4\n",
    "\n",
    "for row in range(0,n,1):\n",
    "    for space in range(0,row,1):\n",
    "        print(' ',end=' ')\n",
    "    for col in range(0,n-row,1):\n",
    "        print(col+1,end=' ')\n",
    "    print()"
   ]
  },
  {
   "cell_type": "code",
   "execution_count": 56,
   "id": "897a64fe-850d-4693-ad72-328c72f27356",
   "metadata": {},
   "outputs": [
    {
     "name": "stdout",
     "output_type": "stream",
     "text": [
      "        \n",
      "      1 \n",
      "    1 2 3 \n",
      "  1 2 3 4 5 \n",
      "1 2 3 4 5 6 7 \n",
      "----------------------------------------\n"
     ]
    }
   ],
   "source": [
    "for row in range(0,n,1):\n",
    "    for space in range(0,n-row-1,1):\n",
    "        print(' ',end=' ')\n",
    "    for col in range(0,2*row-1,1):\n",
    "        print(col+1,end=' ')\n",
    "    print()    \n",
    "    \n",
    "print('--'*20)\n",
    "\n",
    "#pattern "
   ]
  },
  {
   "cell_type": "code",
   "execution_count": 47,
   "id": "16748ff6-e6c8-4604-91be-74a729215864",
   "metadata": {},
   "outputs": [
    {
     "name": "stdout",
     "output_type": "stream",
     "text": [
      "          1 \n",
      "        1 2 \n",
      "      1 2 3 \n",
      "    1 2 3 4 \n",
      "  1 2 3 4 5 \n"
     ]
    }
   ],
   "source": [
    "for row in range(0,n,1):\n",
    "    for space in range(0,n-row,1):\n",
    "        print(' ',end=' ')\n",
    "    for col in range(0,row+1,1):\n",
    "        print(col+1,end=' ')\n",
    "    print()    "
   ]
  },
  {
   "cell_type": "code",
   "execution_count": null,
   "id": "80ec98cd-10e1-4d87-ad14-5df7f100e689",
   "metadata": {},
   "outputs": [],
   "source": []
  },
  {
   "cell_type": "code",
   "execution_count": null,
   "id": "1863a983-d125-4353-b40c-89435c0f14ad",
   "metadata": {},
   "outputs": [],
   "source": []
  }
 ],
 "metadata": {
  "kernelspec": {
   "display_name": "Python 3 (ipykernel)",
   "language": "python",
   "name": "python3"
  },
  "language_info": {
   "codemirror_mode": {
    "name": "ipython",
    "version": 3
   },
   "file_extension": ".py",
   "mimetype": "text/x-python",
   "name": "python",
   "nbconvert_exporter": "python",
   "pygments_lexer": "ipython3",
   "version": "3.10.7"
  }
 },
 "nbformat": 4,
 "nbformat_minor": 5
}

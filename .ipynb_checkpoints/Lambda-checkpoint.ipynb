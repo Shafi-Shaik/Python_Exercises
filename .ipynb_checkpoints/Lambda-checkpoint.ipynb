{
 "cells": [
  {
   "cell_type": "markdown",
   "id": "0ede1954-debe-4bba-b4ee-d2247cac27f4",
   "metadata": {},
   "source": [
    "# Python Lambda Functions\n",
    "1. It can take any number of arguments, but can only have one expression\n",
    "\n",
    "Syntax -> **lambda arguments : expression**"
   ]
  },
  {
   "cell_type": "code",
   "execution_count": 1,
   "id": "284b9f8a-51b2-41a5-b719-335074d3268c",
   "metadata": {},
   "outputs": [],
   "source": [
    "x=lambda a: a+5"
   ]
  },
  {
   "cell_type": "code",
   "execution_count": 2,
   "id": "1873c97e-c225-4668-9509-e5f44d7df267",
   "metadata": {},
   "outputs": [
    {
     "name": "stdout",
     "output_type": "stream",
     "text": [
      "<function <lambda> at 0x000001FEB969F250>\n"
     ]
    }
   ],
   "source": [
    "print(x)"
   ]
  },
  {
   "cell_type": "code",
   "execution_count": 3,
   "id": "4299cf57-c17b-449b-a6af-aa85f18529a6",
   "metadata": {},
   "outputs": [
    {
     "name": "stdout",
     "output_type": "stream",
     "text": [
      "28\n"
     ]
    }
   ],
   "source": [
    "print(x(23))"
   ]
  },
  {
   "cell_type": "code",
   "execution_count": 4,
   "id": "9125db92-aa8b-415d-87de-446a9c4b61a3",
   "metadata": {},
   "outputs": [
    {
     "name": "stdout",
     "output_type": "stream",
     "text": [
      "18\n",
      "224\n"
     ]
    }
   ],
   "source": [
    "x=lambda a,b: a*b\n",
    "print(x(3,6))\n",
    "print(x(32,7))"
   ]
  },
  {
   "cell_type": "code",
   "execution_count": null,
   "id": "e7d5f0d1-7802-4e1d-9865-735b6e7202f0",
   "metadata": {},
   "outputs": [],
   "source": []
  },
  {
   "cell_type": "code",
   "execution_count": 5,
   "id": "2f46e0c9-e8bd-4c5b-a7e1-c5325d55353e",
   "metadata": {},
   "outputs": [
    {
     "name": "stdout",
     "output_type": "stream",
     "text": [
      "12\n"
     ]
    }
   ],
   "source": [
    "\n",
    "add5 = lambda x: x + 5\n",
    "print(add5(7))\n"
   ]
  },
  {
   "cell_type": "code",
   "execution_count": 6,
   "id": "9db09f33-05ff-43a6-bb77-6e079e20b025",
   "metadata": {},
   "outputs": [
    {
     "name": "stdout",
     "output_type": "stream",
     "text": [
      "64\n"
     ]
    }
   ],
   "source": [
    "square = lambda x: x * x\n",
    "print(square(8))"
   ]
  },
  {
   "cell_type": "code",
   "execution_count": 7,
   "id": "f864a956-2e15-4779-977f-9c07335fa876",
   "metadata": {},
   "outputs": [
    {
     "name": "stdout",
     "output_type": "stream",
     "text": [
      "4\n",
      "3\n"
     ]
    }
   ],
   "source": [
    "get_tens = lambda p: int(p/10)%10\n",
    "print(get_tens(749))\n",
    "print(get_tens(836.21))\n"
   ]
  },
  {
   "cell_type": "code",
   "execution_count": 8,
   "id": "7be404c1-4367-49fc-9158-5cfdafbf403e",
   "metadata": {},
   "outputs": [
    {
     "name": "stdout",
     "output_type": "stream",
     "text": [
      "[('carrots', 1.1), ('peaches', 2.45), ('eggs', 5.25), ('honey', 9.7)]\n"
     ]
    }
   ],
   "source": [
    "\n",
    "list1 = [('eggs', 5.25), ('honey', 9.70), ('carrots', 1.10), ('peaches', 2.45)]\n",
    "list1.sort(key = lambda x: x[1])\n",
    "print(list1)"
   ]
  },
  {
   "cell_type": "code",
   "execution_count": 9,
   "id": "991e5499-315c-44fe-80d4-1e291f284f1a",
   "metadata": {},
   "outputs": [
    {
     "name": "stdout",
     "output_type": "stream",
     "text": [
      "[{'make': 'Tesla', 'model': 'X', 'year': 1999},\n",
      " {'make': 'Mercedes', 'model': 'C350E', 'year': 2008},\n",
      " {'make': 'Ford', 'model': 'Focus', 'year': 2013}]\n"
     ]
    }
   ],
   "source": [
    "import pprint as pp\n",
    "list1 = [{'make':'Ford', 'model':'Focus', 'year':2013}, {'make':'Tesla', 'model':'X', 'year':1999}, {'make':'Mercedes', 'model':'C350E', 'year':2008}]\n",
    "list2 = sorted(list1, key = lambda x: x['year'])\n",
    "pp.pprint(list2)\n"
   ]
  },
  {
   "cell_type": "code",
   "execution_count": 10,
   "id": "15d9e010-f7fb-4c2a-bfad-1d022e93a47a",
   "metadata": {},
   "outputs": [
    {
     "name": "stdout",
     "output_type": "stream",
     "text": [
      "[2, 4, 6]\n"
     ]
    }
   ],
   "source": [
    "list1 = [1, 2, 3, 4, 5, 6]\n",
    "list2 = list(filter(lambda x: x%2 == 0, list1))\n",
    "print(list2)\n"
   ]
  },
  {
   "cell_type": "code",
   "execution_count": 11,
   "id": "b5c706d0-89d4-4b18-beda-9931bda731ae",
   "metadata": {},
   "outputs": [
    {
     "name": "stdout",
     "output_type": "stream",
     "text": [
      "[1, 3, 5]\n"
     ]
    }
   ],
   "source": [
    "\n",
    "odds = lambda x: x%2 == 1\n",
    "list1 = [1, 2, 3, 4, 5, 6]\n",
    "list2 = list(filter(odds, list1))\n",
    "print(list2)\n"
   ]
  },
  {
   "cell_type": "code",
   "execution_count": 12,
   "id": "ed501f73-0df4-42fd-b3f1-304ede6dd132",
   "metadata": {},
   "outputs": [
    {
     "name": "stdout",
     "output_type": "stream",
     "text": [
      "[1, 4, 9, 16, 25, 36]\n"
     ]
    }
   ],
   "source": [
    "list1 = [1, 2, 3, 4, 5, 6]\n",
    "list2 = list(map(lambda x: x ** 2, list1))\n",
    "print(list2)\n"
   ]
  },
  {
   "cell_type": "code",
   "execution_count": 13,
   "id": "a6468132-502a-4bd8-9603-680f5b47e129",
   "metadata": {},
   "outputs": [
    {
     "name": "stdout",
     "output_type": "stream",
     "text": [
      "True\n"
     ]
    }
   ],
   "source": [
    "starts_with_J = lambda x: True if x.startswith('J') else False\n",
    "print(starts_with_J('Joey'))\n"
   ]
  },
  {
   "cell_type": "code",
   "execution_count": 14,
   "id": "07d6f9d9-4003-455a-ba48-0b92fc0618ad",
   "metadata": {},
   "outputs": [
    {
     "name": "stdout",
     "output_type": "stream",
     "text": [
      "and\n"
     ]
    }
   ],
   "source": [
    "wordb4 = lambda s, w: s.split()[s.split().index(w)-1] if w in s else None\n",
    "sentence = 'Four score and seven years ago'\n",
    "print(wordb4(sentence, 'seven'))\n"
   ]
  },
  {
   "cell_type": "markdown",
   "id": "e9ab7688-90e2-4636-bb89-af3ab0f0479f",
   "metadata": {},
   "source": [
    "## Lambdas on DataTime Objects\n",
    "* You sometimes want to get just the year, month, date or time for comparision.\n",
    "*  This would typically be most useful as a parameter in sort or filter functions."
   ]
  },
  {
   "cell_type": "code",
   "execution_count": 15,
   "id": "39aaf572-ff6d-4907-8e4d-6c2dcc77f94b",
   "metadata": {},
   "outputs": [
    {
     "name": "stdout",
     "output_type": "stream",
     "text": [
      "2022-12-12 15:52:08.066226\n",
      "2022\n"
     ]
    }
   ],
   "source": [
    "import datetime\n",
    "\n",
    "now = datetime.datetime.now()\n",
    "print(now)\n",
    "year = lambda x: x.year\n",
    "print(year(now))\n"
   ]
  },
  {
   "cell_type": "code",
   "execution_count": 16,
   "id": "2b0f48e3-0b28-428e-ac79-e36007433c5e",
   "metadata": {},
   "outputs": [
    {
     "name": "stdout",
     "output_type": "stream",
     "text": [
      "4096\n",
      "125\n"
     ]
    }
   ],
   "source": [
    "\n",
    "def do_something(f, val):\n",
    "    return f(val)\n",
    "\n",
    "func = lambda x: x**3\n",
    "print(func(16))\n",
    "print(do_something(func, 5))\n"
   ]
  },
  {
   "cell_type": "markdown",
   "id": "80768209-f23c-477b-8e71-8fcb50a304ff",
   "metadata": {},
   "source": [
    "## Extreme Lambdas\n",
    "1. This is probably a stretch -- you shouldn't be trying to do this much with Lambdas.\n",
    "1. Some things are better done in a regular function. But this shows what's possible with Lambdas."
   ]
  },
  {
   "cell_type": "code",
   "execution_count": 17,
   "id": "09b53778-febc-480d-acfe-6e70340a4a26",
   "metadata": {
    "tags": []
   },
   "outputs": [
    {
     "name": "stdout",
     "output_type": "stream",
     "text": [
      "True\n",
      "True\n",
      "False\n",
      "False\n",
      "True\n",
      "-1\n",
      "-21.67 <class 'float'>\n"
     ]
    }
   ],
   "source": [
    "isnum = lambda q: q.replace('.','',1).isdigit()\n",
    "print(isnum('25983'))\n",
    "print(isnum('3.1415'))\n",
    "print(isnum('T57'))\n",
    "print(isnum('-16'))\n",
    "\n",
    "is_num = lambda r: isnum(r[1:]) if r[0]=='-' else isnum(r)\n",
    "print(is_num('-16.4'))\n",
    "\n",
    "tonum = lambda s: float(s) if is_num(s) else -1\n",
    "print(tonum('30y'))\n",
    "print(tonum('-21.67'), type(tonum('-21.67')))\n"
   ]
  },
  {
   "cell_type": "code",
   "execution_count": null,
   "id": "44af01f5-fb11-4ae7-b231-75de15ad180c",
   "metadata": {},
   "outputs": [],
   "source": []
  }
 ],
 "metadata": {
  "kernelspec": {
   "display_name": "Python 3 (ipykernel)",
   "language": "python",
   "name": "python3"
  },
  "language_info": {
   "codemirror_mode": {
    "name": "ipython",
    "version": 3
   },
   "file_extension": ".py",
   "mimetype": "text/x-python",
   "name": "python",
   "nbconvert_exporter": "python",
   "pygments_lexer": "ipython3",
   "version": "3.10.7"
  }
 },
 "nbformat": 4,
 "nbformat_minor": 5
}

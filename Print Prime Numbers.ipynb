{
 "cells": [
  {
   "cell_type": "markdown",
   "id": "10423845-fb30-4cbf-a951-c169c317b968",
   "metadata": {
    "tags": []
   },
   "source": [
    "## method 1: "
   ]
  },
  {
   "cell_type": "code",
   "execution_count": 1,
   "id": "e2c7d903-264a-4e34-aea2-0648438fc5d4",
   "metadata": {},
   "outputs": [
    {
     "name": "stdin",
     "output_type": "stream",
     "text": [
      "Find primes up to what number? :  5\n"
     ]
    },
    {
     "name": "stdout",
     "output_type": "stream",
     "text": [
      "[2, 3, 5]\n"
     ]
    }
   ],
   "source": [
    "max = int(input(\"Find primes up to what number? : \"))\n",
    "primeList = []\n",
    "\n",
    "#for loop for checking each number\n",
    "for x in range(2, max + 1):\n",
    "\tisPrime = True\n",
    "\tindex = 0\n",
    "\troot = int(x ** 0.5) + 1\n",
    "\t\n",
    "\twhile index < len(primeList) and primeList[index] <= root:\n",
    "\t\tif x % primeList[index] == 0:\n",
    "\t\t\tisPrime = False\n",
    "\t\t\tbreak\n",
    "\t\tindex += 1\n",
    "\t\t\t\n",
    "\tif isPrime:\n",
    "\t\tprimeList.append(x)\n",
    "\t\t\n",
    "print(primeList)"
   ]
  },
  {
   "cell_type": "markdown",
   "id": "96b87647-4500-4d94-a8db-c6c3d45dbb1f",
   "metadata": {
    "tags": []
   },
   "source": [
    "## method 2: "
   ]
  },
  {
   "cell_type": "code",
   "execution_count": 3,
   "id": "7902a1ca-9e78-44f8-bf74-399446023dc9",
   "metadata": {},
   "outputs": [
    {
     "name": "stdout",
     "output_type": "stream",
     "text": [
      "Is 13 prime: True\n"
     ]
    }
   ],
   "source": [
    "\n",
    "def is_prime(n):\n",
    "   \n",
    "    if n <= 1:\n",
    "        return False\n",
    "    else:\n",
    "        for i in range(2, n):\n",
    "            # checking for factor\n",
    "            if n % i == 0:\n",
    "                return False\n",
    "        return True\n",
    "\n",
    "print(f\"Is 13 prime: {is_prime(13)}\") "
   ]
  },
  {
   "cell_type": "code",
   "execution_count": null,
   "id": "eb559025-99d4-420b-9304-96d42531c35f",
   "metadata": {},
   "outputs": [],
   "source": []
  },
  {
   "cell_type": "code",
   "execution_count": null,
   "id": "69c49461-b971-4564-952d-e68bcf879c70",
   "metadata": {},
   "outputs": [],
   "source": []
  },
  {
   "cell_type": "code",
   "execution_count": null,
   "id": "d3ff7df2-7d19-4f35-ba4a-cbb541289c41",
   "metadata": {},
   "outputs": [],
   "source": []
  }
 ],
 "metadata": {
  "kernelspec": {
   "display_name": "Python 3 (ipykernel)",
   "language": "python",
   "name": "python3"
  },
  "language_info": {
   "codemirror_mode": {
    "name": "ipython",
    "version": 3
   },
   "file_extension": ".py",
   "mimetype": "text/x-python",
   "name": "python",
   "nbconvert_exporter": "python",
   "pygments_lexer": "ipython3",
   "version": "3.10.7"
  }
 },
 "nbformat": 4,
 "nbformat_minor": 5
}

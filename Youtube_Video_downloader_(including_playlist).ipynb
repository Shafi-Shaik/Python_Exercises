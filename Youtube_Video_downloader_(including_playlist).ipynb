{
 "cells": [
  {
   "cell_type": "code",
   "execution_count": 95,
   "id": "0b93385b-b9e5-4cf1-b0d4-f48e8a5255b6",
   "metadata": {},
   "outputs": [
    {
     "name": "stdout",
     "output_type": "stream",
     "text": [
      "All Videos Downloaded Successfully\n",
      "Your Videos will be downloaded in this folder : D:/1Youtube/dump/\n"
     ]
    },
    {
     "name": "stdin",
     "output_type": "stream",
     "text": [
      "Type A or B \n",
      " Do you want to download single video or playlist : A) Single Video  B) Playlist \n",
      " :  a\n",
      "Enter url for video link: \t https://www.youtube.com/watch?v=Po3jStA673E\n"
     ]
    },
    {
     "name": "stdout",
     "output_type": "stream",
     "text": [
      "video downloaded successfully\n"
     ]
    }
   ],
   "source": [
    "import pytube as pt\n",
    "import time\n",
    "# To dowload Single Video\n",
    "def single_video ():\n",
    "    url=input('Enter url for video link: \\t')\n",
    "    video=pt.YouTube(url)\n",
    "    desired_video=video.streams.get_highest_resolution()        \n",
    "    desired_video.download(folder)\n",
    "    time.sleep(15)\n",
    "    print('video downloaded successfully')\n",
    "    \n",
    "                                                 #To dowload Entire Playlist\n",
    "                                                 \n",
    "## Get the Information about the Playlist\n",
    "def playlist_info(playlist):\n",
    "    print('No.of Videos in this Playlist = ',playlist.length)\n",
    "    print('last_updated Date  = ',playlist.last_updated)\n",
    "    print('Channel Link = ',playlist.owner_url)\n",
    "    print('Playlist title= ',playlist.title)\n",
    "    print('Owner of this Playlist = ',playlist.owner)\n",
    "    print('Playlist Link = ',playlist.playlist_url)\n",
    "   # print('List of URLs of individual Video of the Playlist',playlist.video_urls)\n",
    "    print('Total Views of the Playlist', playlist.views)\n",
    "    \n",
    "    \n",
    "# download starts here:\n",
    "def download_playlist():\n",
    "    playlist = input('Enter Playlist URL here: \\t')\n",
    "    playlist=pt.Playlist(playlist)\n",
    "    playlist_info(playlist)\n",
    "    for video in playlist.videos:\n",
    "        video.streams.get_highest_resolution().download(folder)\n",
    "        video_no=1\n",
    "        print('video number=',video_no,'is being downloaded')\n",
    "        video_no=video_no+1\n",
    "        print(video.title,' ---- Video Download Successfull')\n",
    "\n",
    "print('All Videos Downloaded Successfully')\n",
    "\n",
    "\n",
    "# input folder path (use backslash '/' for nested folder path )\n",
    "\n",
    "#f1 = input(\"enter your folder name: (don't provide path, just a folder name) \\t\")\n",
    "folder= \"D:/1Youtube/dump/\"\n",
    "print(f\"Your Videos will be downloaded in this folder : {folder}\")\n",
    "time.sleep(4)\n",
    "\n",
    "# Ask whether you want to download a single video or playlist\n",
    "download_type = input(\"Type A or B \\n Do you want to download single video or playlist : A) Single Video  B) Playlist \\n : \")\n",
    "if download_type in ('a','A'):\n",
    "    single_video()\n",
    "elif download_type in ('b','B'):\n",
    "    download_playlist()\n",
    "else: \n",
    "    print('please type either A/a or B/b only')\n",
    "    time.sleep(3)"
   ]
  },
  {
   "cell_type": "code",
   "execution_count": null,
   "id": "eb328bbe-de82-4b48-a3cf-de50a0d814c5",
   "metadata": {},
   "outputs": [],
   "source": []
  }
 ],
 "metadata": {
  "kernelspec": {
   "display_name": "Python 3 (ipykernel)",
   "language": "python",
   "name": "python3"
  },
  "language_info": {
   "codemirror_mode": {
    "name": "ipython",
    "version": 3
   },
   "file_extension": ".py",
   "mimetype": "text/x-python",
   "name": "python",
   "nbconvert_exporter": "python",
   "pygments_lexer": "ipython3",
   "version": "3.11.6"
  }
 },
 "nbformat": 4,
 "nbformat_minor": 5
}
